{
 "cells": [
  {
   "cell_type": "code",
   "execution_count": 1,
   "metadata": {
    "execution": {
     "iopub.execute_input": "2025-02-25T08:19:46.306782Z",
     "iopub.status.busy": "2025-02-25T08:19:46.306473Z",
     "iopub.status.idle": "2025-02-25T08:19:52.350122Z",
     "shell.execute_reply": "2025-02-25T08:19:52.349196Z",
     "shell.execute_reply.started": "2025-02-25T08:19:46.306750Z"
    },
    "trusted": true
   },
   "outputs": [
    {
     "name": "stdout",
     "output_type": "stream",
     "text": [
      "Collecting rasterio\n",
      "  Downloading rasterio-1.4.3-cp310-cp310-manylinux_2_17_x86_64.manylinux2014_x86_64.whl.metadata (9.1 kB)\n",
      "Collecting affine (from rasterio)\n",
      "  Downloading affine-2.4.0-py3-none-any.whl.metadata (4.0 kB)\n",
      "Requirement already satisfied: attrs in /usr/local/lib/python3.10/dist-packages (from rasterio) (25.1.0)\n",
      "Requirement already satisfied: certifi in /usr/local/lib/python3.10/dist-packages (from rasterio) (2025.1.31)\n",
      "Requirement already satisfied: click>=4.0 in /usr/local/lib/python3.10/dist-packages (from rasterio) (8.1.7)\n",
      "Requirement already satisfied: cligj>=0.5 in /usr/local/lib/python3.10/dist-packages (from rasterio) (0.7.2)\n",
      "Requirement already satisfied: numpy>=1.24 in /usr/local/lib/python3.10/dist-packages (from rasterio) (1.26.4)\n",
      "Requirement already satisfied: click-plugins in /usr/local/lib/python3.10/dist-packages (from rasterio) (1.1.1)\n",
      "Requirement already satisfied: pyparsing in /usr/local/lib/python3.10/dist-packages (from rasterio) (3.2.0)\n",
      "Requirement already satisfied: mkl_fft in /usr/local/lib/python3.10/dist-packages (from numpy>=1.24->rasterio) (1.3.8)\n",
      "Requirement already satisfied: mkl_random in /usr/local/lib/python3.10/dist-packages (from numpy>=1.24->rasterio) (1.2.4)\n",
      "Requirement already satisfied: mkl_umath in /usr/local/lib/python3.10/dist-packages (from numpy>=1.24->rasterio) (0.1.1)\n",
      "Requirement already satisfied: mkl in /usr/local/lib/python3.10/dist-packages (from numpy>=1.24->rasterio) (2025.0.1)\n",
      "Requirement already satisfied: tbb4py in /usr/local/lib/python3.10/dist-packages (from numpy>=1.24->rasterio) (2022.0.0)\n",
      "Requirement already satisfied: mkl-service in /usr/local/lib/python3.10/dist-packages (from numpy>=1.24->rasterio) (2.4.1)\n",
      "Requirement already satisfied: intel-openmp>=2024 in /usr/local/lib/python3.10/dist-packages (from mkl->numpy>=1.24->rasterio) (2024.2.0)\n",
      "Requirement already satisfied: tbb==2022.* in /usr/local/lib/python3.10/dist-packages (from mkl->numpy>=1.24->rasterio) (2022.0.0)\n",
      "Requirement already satisfied: tcmlib==1.* in /usr/local/lib/python3.10/dist-packages (from tbb==2022.*->mkl->numpy>=1.24->rasterio) (1.2.0)\n",
      "Requirement already satisfied: intel-cmplr-lib-rt in /usr/local/lib/python3.10/dist-packages (from mkl_umath->numpy>=1.24->rasterio) (2024.2.0)\n",
      "Requirement already satisfied: intel-cmplr-lib-ur==2024.2.0 in /usr/local/lib/python3.10/dist-packages (from intel-openmp>=2024->mkl->numpy>=1.24->rasterio) (2024.2.0)\n",
      "Downloading rasterio-1.4.3-cp310-cp310-manylinux_2_17_x86_64.manylinux2014_x86_64.whl (22.2 MB)\n",
      "\u001b[2K   \u001b[90m━━━━━━━━━━━━━━━━━━━━━━━━━━━━━━━━━━━━━━━━\u001b[0m \u001b[32m22.2/22.2 MB\u001b[0m \u001b[31m79.2 MB/s\u001b[0m eta \u001b[36m0:00:00\u001b[0m:00:01\u001b[0m00:01\u001b[0m\n",
      "\u001b[?25hDownloading affine-2.4.0-py3-none-any.whl (15 kB)\n",
      "Installing collected packages: affine, rasterio\n",
      "Successfully installed affine-2.4.0 rasterio-1.4.3\n",
      "Note: you may need to restart the kernel to use updated packages.\n"
     ]
    }
   ],
   "source": [
    "pip install rasterio"
   ]
  },
  {
   "cell_type": "code",
   "execution_count": 2,
   "metadata": {
    "execution": {
     "iopub.execute_input": "2025-02-25T08:19:52.351466Z",
     "iopub.status.busy": "2025-02-25T08:19:52.351182Z",
     "iopub.status.idle": "2025-02-25T08:19:52.356560Z",
     "shell.execute_reply": "2025-02-25T08:19:52.355590Z",
     "shell.execute_reply.started": "2025-02-25T08:19:52.351439Z"
    },
    "id": "AmORJYxDeBKr",
    "trusted": true
   },
   "outputs": [],
   "source": [
    "import torch\n",
    "import torch.nn as nn\n",
    "import torch.nn.functional as F\n",
    "import torchvision.transforms as T\n",
    "import numpy as np\n",
    "import cv2\n",
    "import matplotlib.pyplot as plt\n",
    "from tqdm import tqdm\n",
    "from torch.utils.data import Dataset, DataLoader\n",
    "import albumentations as A\n",
    "from albumentations.pytorch import ToTensorV2\n"
   ]
  },
  {
   "cell_type": "code",
   "execution_count": 3,
   "metadata": {
    "execution": {
     "iopub.execute_input": "2025-02-25T08:19:52.357557Z",
     "iopub.status.busy": "2025-02-25T08:19:52.357286Z",
     "iopub.status.idle": "2025-02-25T08:19:52.376743Z",
     "shell.execute_reply": "2025-02-25T08:19:52.375812Z",
     "shell.execute_reply.started": "2025-02-25T08:19:52.357532Z"
    },
    "id": "KBsc6vr4ePSV",
    "trusted": true
   },
   "outputs": [],
   "source": [
    "import torch\n",
    "import torch.nn as nn\n",
    "import torch.nn.functional as F\n",
    "\n",
    "# --------- Basic Convolutional Block ---------\n",
    "class ConvBlock(nn.Module):\n",
    "    def __init__(self, ch_in, ch_out):\n",
    "        super().__init__()\n",
    "        self.conv = nn.Sequential(\n",
    "            nn.Conv2d(ch_in, ch_out, kernel_size=3, stride=1, padding=1, bias=True),\n",
    "            nn.BatchNorm2d(ch_out),\n",
    "            nn.ReLU(inplace=True),\n",
    "            nn.Conv2d(ch_out, ch_out, kernel_size=3, stride=1, padding=1, bias=True),\n",
    "            nn.BatchNorm2d(ch_out),\n",
    "            nn.ReLU(inplace=True)\n",
    "        )\n",
    "\n",
    "    def forward(self, x):\n",
    "        return self.conv(x)\n",
    "\n",
    "# --------- UpSampling + Convolution Block ---------\n",
    "class UpConvBlock(nn.Module):\n",
    "    def __init__(self, ch_in, ch_out):\n",
    "        super().__init__()\n",
    "        self.up = nn.Sequential(\n",
    "            nn.Upsample(scale_factor=2, mode=\"bilinear\", align_corners=True),\n",
    "            nn.Conv2d(ch_in, ch_out, kernel_size=3, stride=1, padding=1, bias=True),\n",
    "            nn.BatchNorm2d(ch_out),\n",
    "            nn.ReLU(inplace=True)\n",
    "        )\n",
    "\n",
    "    def forward(self, x):\n",
    "        return self.up(x)\n",
    "\n",
    "# --------- Attention Block ---------\n",
    "class AttentionBlock(nn.Module):\n",
    "    def __init__(self, f_g, f_l, f_int):\n",
    "        super().__init__()\n",
    "        self.w_g = nn.Sequential(\n",
    "            nn.Conv2d(f_g, f_int, kernel_size=1, stride=1, padding=0, bias=True),\n",
    "            nn.BatchNorm2d(f_int)\n",
    "        )\n",
    "        self.w_x = nn.Sequential(\n",
    "            nn.Conv2d(f_l, f_int, kernel_size=1, stride=1, padding=0, bias=True),\n",
    "            nn.BatchNorm2d(f_int)\n",
    "        )\n",
    "        self.psi = nn.Sequential(\n",
    "            nn.Conv2d(f_int, 1, kernel_size=1, stride=1, padding=0, bias=True),\n",
    "            nn.BatchNorm2d(1),\n",
    "            nn.Sigmoid()\n",
    "        )\n",
    "        self.relu = nn.ReLU(inplace=True)\n",
    "\n",
    "    def forward(self, g, x):\n",
    "        g1 = self.w_g(g)\n",
    "        x1 = self.w_x(x)\n",
    "        psi = self.relu(g1 + x1)\n",
    "        psi = self.psi(psi)\n",
    "        return x * psi  # Element-wise multiplication\n",
    "\n",
    "# --------- Attention U-Net Model with Uncertainty Mechanism ---------\n",
    "class AttentionUNet(nn.Module):\n",
    "    def __init__(self, in_channels=6, out_channels=1):\n",
    "        super().__init__()\n",
    "\n",
    "        self.maxpool = nn.MaxPool2d(kernel_size=2, stride=2)\n",
    "\n",
    "        # Encoder\n",
    "        self.conv1 = ConvBlock(ch_in=in_channels, ch_out=64)\n",
    "        self.conv2 = ConvBlock(ch_in=64, ch_out=128)\n",
    "        self.conv3 = ConvBlock(ch_in=128, ch_out=256)\n",
    "        self.conv4 = ConvBlock(ch_in=256, ch_out=512)\n",
    "        self.conv5 = ConvBlock(ch_in=512, ch_out=1024)\n",
    "\n",
    "        # Decoder with Attention\n",
    "        self.up5 = UpConvBlock(ch_in=1024, ch_out=512)\n",
    "        self.att5 = AttentionBlock(f_g=512, f_l=512, f_int=256)\n",
    "        self.upconv5 = ConvBlock(ch_in=1024, ch_out=512)\n",
    "\n",
    "        self.up4 = UpConvBlock(ch_in=512, ch_out=256)\n",
    "        self.att4 = AttentionBlock(f_g=256, f_l=256, f_int=128)\n",
    "        self.upconv4 = ConvBlock(ch_in=512, ch_out=256)\n",
    "\n",
    "        self.up3 = UpConvBlock(ch_in=256, ch_out=128)\n",
    "        self.att3 = AttentionBlock(f_g=128, f_l=128, f_int=64)\n",
    "        self.upconv3 = ConvBlock(ch_in=256, ch_out=128)\n",
    "\n",
    "        self.up2 = UpConvBlock(ch_in=128, ch_out=64)\n",
    "        self.att2 = AttentionBlock(f_g=64, f_l=64, f_int=32)\n",
    "        self.upconv2 = ConvBlock(ch_in=128, ch_out=64)\n",
    "\n",
    "        # Final output convolution\n",
    "        self.conv_1x1 = nn.Conv2d(64, out_channels, kernel_size=1, stride=1, padding=0)\n",
    "\n",
    "    def forward(self, x):\n",
    "        # --------- Encoder ---------\n",
    "        x1 = self.conv1(x)  # 64 channels\n",
    "        x2 = self.conv2(self.maxpool(x1))  # 128 channels\n",
    "        x3 = self.conv3(self.maxpool(x2))  # 256 channels\n",
    "        x4 = self.conv4(self.maxpool(x3))  # 512 channels\n",
    "        x5 = self.conv5(self.maxpool(x4))  # 1024 channels (bottleneck)\n",
    "\n",
    "        # --------- Decoder with Attention ---------\n",
    "        d5 = self.upconv5(torch.cat((self.att5(self.up5(x5), x4), self.up5(x5)), dim=1))\n",
    "        d4 = self.upconv4(torch.cat((self.att4(self.up4(d5), x3), self.up4(d5)), dim=1))\n",
    "        d3 = self.upconv3(torch.cat((self.att3(self.up3(d4), x2), self.up3(d4)), dim=1))\n",
    "        d2 = self.upconv2(torch.cat((self.att2(self.up2(d3), x1), self.up2(d3)), dim=1))\n",
    "\n",
    "        # --------- Generate Probability Map ---------\n",
    "        prob_map = torch.sigmoid(self.conv_1x1(d2))  # Final segmentation output\n",
    "\n",
    "        # --------- Uncertainty-Based Attention ---------\n",
    "        uncertainty_map = torch.abs(prob_map - 0.5)  # Compute uncertainty\n",
    "        discrete_map = torch.floor(uncertainty_map * 10) + 1  # Convert to bins (1-10)\n",
    "\n",
    "        # Apply uncertainty as attention weights to enhance high-uncertainty areas\n",
    "        weighted_prob_map = prob_map * discrete_map  # Element-wise multiplication\n",
    "\n",
    "        return weighted_prob_map  # Final flood map with uncertainty attention"
   ]
  },
  {
   "cell_type": "code",
   "execution_count": null,
   "metadata": {
    "execution": {
     "iopub.execute_input": "2025-02-25T08:19:52.378987Z",
     "iopub.status.busy": "2025-02-25T08:19:52.378744Z",
     "iopub.status.idle": "2025-02-25T08:19:52.394558Z",
     "shell.execute_reply": "2025-02-25T08:19:52.393843Z",
     "shell.execute_reply.started": "2025-02-25T08:19:52.378967Z"
    },
    "trusted": true
   },
   "outputs": [],
   "source": [
    "# import torch\n",
    "# import torch.nn as nn\n",
    "# import torch.optim as optim\n",
    "# import matplotlib.pyplot as plt\n",
    "# import seaborn as sns\n",
    "# import numpy as np\n",
    "\n",
    "# # Assume train_dataset is a PyTorch Dataset\n",
    "# train_loader = torch.utils.data.DataLoader(train_dataset, batch_size=4, shuffle=True)\n",
    "\n",
    "# # Initialize Model\n",
    "# device = torch.device(\"cuda\" if torch.cuda.is_available() else \"cpu\")\n",
    "# model = AttentionUNet(in_channels=6, out_channels=1).to(device)\n",
    "\n",
    "# # Loss and optimizer\n",
    "# criterion = nn.BCELoss()  # Binary Cross Entropy for segmentation\n",
    "# optimizer = optim.Adam(model.parameters(), lr=1e-3)\n",
    "\n",
    "# # Process one batch to visualize probability distribution\n",
    "# model.eval()  # Set to evaluation mode\n",
    "# with torch.no_grad():\n",
    "#     for images, _ in train_loader:  # Assuming train_dataset returns (image, mask)\n",
    "#         images = images.to(device)\n",
    "#         prob_map = model(images)  # Shape: (batch, 1, height, width)\n",
    "#         prob_map = prob_map.squeeze(1).cpu().numpy()  # Convert to numpy for visualization\n",
    "#         break  # Only process the first batch\n",
    "\n",
    "# # Flatten probability map for histogram\n",
    "# flattened_probs = prob_map.flatten()\n",
    "\n",
    "# plt.figure(figsize=(8, 5))\n",
    "# sns.histplot(flattened_probs, bins=50, kde=True)\n",
    "# plt.xlabel(\"Probability Value\")\n",
    "# plt.ylabel(\"Pixel Count\")\n",
    "# plt.title(\"Probability Distribution of Segmentation Map\")\n",
    "# plt.show()\n",
    "\n",
    "# plt.figure(figsize=(6, 6))\n",
    "# sns.heatmap(prob_map[0], cmap=\"coolwarm\", vmin=0, vmax=1)  # First sample in batch\n",
    "# plt.title(\"Probability Heatmap (Sample 1)\")\n",
    "# plt.axis(\"off\")\n",
    "# plt.show()\n"
   ]
  },
  {
   "cell_type": "code",
   "execution_count": 5,
   "metadata": {
    "execution": {
     "iopub.execute_input": "2025-02-25T08:19:52.396361Z",
     "iopub.status.busy": "2025-02-25T08:19:52.396025Z",
     "iopub.status.idle": "2025-02-25T08:19:53.060444Z",
     "shell.execute_reply": "2025-02-25T08:19:53.059549Z",
     "shell.execute_reply.started": "2025-02-25T08:19:52.396328Z"
    },
    "trusted": true
   },
   "outputs": [],
   "source": [
    "import torch\n",
    "import os\n",
    "import numpy as np\n",
    "import rasterio\n",
    "from torchvision import transforms\n",
    "from torch.utils.data import Dataset, DataLoader\n",
    "from PIL import Image\n",
    "\n",
    "class SARDEMDataset(Dataset):\n",
    "    def __init__(self, img_paths, label_paths, transform=None):\n",
    "        self.img_paths = img_paths\n",
    "        self.label_paths = label_paths\n",
    "        self.transform = transform\n",
    "\n",
    "    def __len__(self):\n",
    "        return len(self.img_paths)\n",
    "\n",
    "    def __getitem__(self, idx):\n",
    "        img = tiff.imread(self.img_paths[idx]).astype(np.float32)  # Convert to float32\n",
    "        label = plt.imread(self.label_paths[idx])\n",
    "\n",
    "        # Normalize label to 0 or 1\n",
    "        label = (label > 0.001).astype(np.uint8)\n",
    "\n",
    "        if self.transform:\n",
    "            img = self.transform(img)\n",
    "            label = torch.tensor(label, dtype=torch.float32).unsqueeze(0)  # Ensure float32\n",
    "        \n",
    "        return img, label\n"
   ]
  },
  {
   "cell_type": "code",
   "execution_count": 6,
   "metadata": {
    "execution": {
     "iopub.execute_input": "2025-02-25T08:19:53.061837Z",
     "iopub.status.busy": "2025-02-25T08:19:53.061366Z",
     "iopub.status.idle": "2025-02-25T08:19:53.724310Z",
     "shell.execute_reply": "2025-02-25T08:19:53.723492Z",
     "shell.execute_reply.started": "2025-02-25T08:19:53.061813Z"
    },
    "trusted": true
   },
   "outputs": [],
   "source": [
    "from sklearn.model_selection import train_test_split\n",
    "\n",
    "# Paths\n",
    "img_dir = \"/kaggle/input/images/images/images\"\n",
    "label_dir = \"/kaggle/input/images/labels/labels\"\n",
    "\n",
    "# List images and labels\n",
    "img_list = sorted([f for f in os.listdir(img_dir) if f.endswith(\".tif\")])\n",
    "label_list = sorted([f for f in os.listdir(label_dir) if f.endswith(\".png\")])\n",
    "\n",
    "# Keep only matching pairs\n",
    "img_paths = [os.path.join(img_dir, f) for f in img_list if f.replace(\".tif\", \".png\") in label_list]\n",
    "label_paths = [os.path.join(label_dir, f.replace(\".tif\", \".png\")) for f in img_list if f.replace(\".tif\", \".png\") in label_list]\n",
    "\n",
    "# Train-test split\n",
    "train_img_paths, test_img_paths, train_label_paths, test_label_paths = train_test_split(img_paths, label_paths, test_size=0.2, random_state=42)\n",
    "\n",
    "# Data Augmentation & Transformation\n",
    "transform = transforms.Compose([\n",
    "    transforms.ToTensor(),\n",
    "])\n",
    "\n",
    "# Create Datasets\n",
    "train_dataset = SARDEMDataset(train_img_paths, train_label_paths, transform=transform)\n",
    "test_dataset = SARDEMDataset(test_img_paths, test_label_paths, transform=transform)\n",
    "\n",
    "# Data Loaders\n",
    "train_loader = DataLoader(train_dataset, batch_size=4, shuffle=True)\n",
    "test_loader = DataLoader(test_dataset, batch_size=4, shuffle=False)\n"
   ]
  },
  {
   "cell_type": "code",
   "execution_count": 7,
   "metadata": {
    "execution": {
     "iopub.execute_input": "2025-02-25T08:19:53.725649Z",
     "iopub.status.busy": "2025-02-25T08:19:53.725284Z",
     "iopub.status.idle": "2025-02-25T09:55:21.953248Z",
     "shell.execute_reply": "2025-02-25T09:55:21.952529Z",
     "shell.execute_reply.started": "2025-02-25T08:19:53.725627Z"
    },
    "trusted": true
   },
   "outputs": [
    {
     "name": "stdout",
     "output_type": "stream",
     "text": [
      "[INFO] Training Model: Attention UNet\n"
     ]
    },
    {
     "name": "stderr",
     "output_type": "stream",
     "text": [
      "100%|██████████| 326/326 [04:21<00:00,  1.25it/s]\n"
     ]
    },
    {
     "name": "stdout",
     "output_type": "stream",
     "text": [
      "Epoch [1/20]\n",
      "Train Loss: 1.6707, Train Dice: 0.1137, Val Dice: 0.1417\n"
     ]
    },
    {
     "name": "stderr",
     "output_type": "stream",
     "text": [
      "100%|██████████| 326/326 [04:20<00:00,  1.25it/s]\n"
     ]
    },
    {
     "name": "stdout",
     "output_type": "stream",
     "text": [
      "Epoch [2/20]\n",
      "Train Loss: 1.5427, Train Dice: 0.1145, Val Dice: 0.1417\n"
     ]
    },
    {
     "name": "stderr",
     "output_type": "stream",
     "text": [
      "100%|██████████| 326/326 [04:20<00:00,  1.25it/s]\n"
     ]
    },
    {
     "name": "stdout",
     "output_type": "stream",
     "text": [
      "Epoch [3/20]\n",
      "Train Loss: 1.5283, Train Dice: 0.1140, Val Dice: 0.1417\n"
     ]
    },
    {
     "name": "stderr",
     "output_type": "stream",
     "text": [
      "100%|██████████| 326/326 [04:20<00:00,  1.25it/s]\n"
     ]
    },
    {
     "name": "stdout",
     "output_type": "stream",
     "text": [
      "Epoch [4/20]\n",
      "Train Loss: 1.5223, Train Dice: 0.1145, Val Dice: 0.1417\n"
     ]
    },
    {
     "name": "stderr",
     "output_type": "stream",
     "text": [
      "100%|██████████| 326/326 [04:20<00:00,  1.25it/s]\n"
     ]
    },
    {
     "name": "stdout",
     "output_type": "stream",
     "text": [
      "Epoch [5/20]\n",
      "Train Loss: 1.5226, Train Dice: 0.1137, Val Dice: 0.1417\n"
     ]
    },
    {
     "name": "stderr",
     "output_type": "stream",
     "text": [
      "100%|██████████| 326/326 [04:19<00:00,  1.25it/s]\n"
     ]
    },
    {
     "name": "stdout",
     "output_type": "stream",
     "text": [
      "Epoch [6/20]\n",
      "Train Loss: 1.5244, Train Dice: 0.1133, Val Dice: 0.1417\n"
     ]
    },
    {
     "name": "stderr",
     "output_type": "stream",
     "text": [
      "100%|██████████| 326/326 [04:20<00:00,  1.25it/s]\n"
     ]
    },
    {
     "name": "stdout",
     "output_type": "stream",
     "text": [
      "Epoch [7/20]\n",
      "Train Loss: 1.5209, Train Dice: 0.1139, Val Dice: 0.1417\n"
     ]
    },
    {
     "name": "stderr",
     "output_type": "stream",
     "text": [
      "100%|██████████| 326/326 [04:19<00:00,  1.25it/s]\n"
     ]
    },
    {
     "name": "stdout",
     "output_type": "stream",
     "text": [
      "Epoch [8/20]\n",
      "Train Loss: 1.5166, Train Dice: 0.1145, Val Dice: 0.1417\n"
     ]
    },
    {
     "name": "stderr",
     "output_type": "stream",
     "text": [
      "100%|██████████| 326/326 [04:20<00:00,  1.25it/s]\n"
     ]
    },
    {
     "name": "stdout",
     "output_type": "stream",
     "text": [
      "Epoch [9/20]\n",
      "Train Loss: 1.5217, Train Dice: 0.1129, Val Dice: 0.1417\n"
     ]
    },
    {
     "name": "stderr",
     "output_type": "stream",
     "text": [
      "100%|██████████| 326/326 [04:20<00:00,  1.25it/s]\n"
     ]
    },
    {
     "name": "stdout",
     "output_type": "stream",
     "text": [
      "Epoch [10/20]\n",
      "Train Loss: 1.5189, Train Dice: 0.1139, Val Dice: 0.1417\n"
     ]
    },
    {
     "name": "stderr",
     "output_type": "stream",
     "text": [
      "100%|██████████| 326/326 [04:20<00:00,  1.25it/s]\n"
     ]
    },
    {
     "name": "stdout",
     "output_type": "stream",
     "text": [
      "Epoch [11/20]\n",
      "Train Loss: 1.5193, Train Dice: 0.1137, Val Dice: 0.1417\n"
     ]
    },
    {
     "name": "stderr",
     "output_type": "stream",
     "text": [
      "100%|██████████| 326/326 [04:20<00:00,  1.25it/s]\n"
     ]
    },
    {
     "name": "stdout",
     "output_type": "stream",
     "text": [
      "Epoch [12/20]\n",
      "Train Loss: 1.5199, Train Dice: 0.1131, Val Dice: 0.1417\n"
     ]
    },
    {
     "name": "stderr",
     "output_type": "stream",
     "text": [
      "100%|██████████| 326/326 [04:20<00:00,  1.25it/s]\n"
     ]
    },
    {
     "name": "stdout",
     "output_type": "stream",
     "text": [
      "Epoch [13/20]\n",
      "Train Loss: 1.5163, Train Dice: 0.1142, Val Dice: 0.1417\n"
     ]
    },
    {
     "name": "stderr",
     "output_type": "stream",
     "text": [
      "100%|██████████| 326/326 [04:20<00:00,  1.25it/s]\n"
     ]
    },
    {
     "name": "stdout",
     "output_type": "stream",
     "text": [
      "Epoch [14/20]\n",
      "Train Loss: 1.5153, Train Dice: 0.1143, Val Dice: 0.1417\n"
     ]
    },
    {
     "name": "stderr",
     "output_type": "stream",
     "text": [
      "100%|██████████| 326/326 [04:20<00:00,  1.25it/s]\n"
     ]
    },
    {
     "name": "stdout",
     "output_type": "stream",
     "text": [
      "Epoch [15/20]\n",
      "Train Loss: 1.5149, Train Dice: 0.1144, Val Dice: 0.1417\n"
     ]
    },
    {
     "name": "stderr",
     "output_type": "stream",
     "text": [
      "100%|██████████| 326/326 [04:20<00:00,  1.25it/s]\n"
     ]
    },
    {
     "name": "stdout",
     "output_type": "stream",
     "text": [
      "Epoch [16/20]\n",
      "Train Loss: 1.5158, Train Dice: 0.1143, Val Dice: 0.1417\n"
     ]
    },
    {
     "name": "stderr",
     "output_type": "stream",
     "text": [
      "100%|██████████| 326/326 [04:20<00:00,  1.25it/s]\n"
     ]
    },
    {
     "name": "stdout",
     "output_type": "stream",
     "text": [
      "Epoch [17/20]\n",
      "Train Loss: 1.5175, Train Dice: 0.1135, Val Dice: 0.1417\n"
     ]
    },
    {
     "name": "stderr",
     "output_type": "stream",
     "text": [
      "100%|██████████| 326/326 [04:23<00:00,  1.24it/s]\n"
     ]
    },
    {
     "name": "stdout",
     "output_type": "stream",
     "text": [
      "Epoch [18/20]\n",
      "Train Loss: 1.5133, Train Dice: 0.1149, Val Dice: 0.1417\n"
     ]
    },
    {
     "name": "stderr",
     "output_type": "stream",
     "text": [
      "100%|██████████| 326/326 [04:20<00:00,  1.25it/s]\n"
     ]
    },
    {
     "name": "stdout",
     "output_type": "stream",
     "text": [
      "Epoch [19/20]\n",
      "Train Loss: 1.5186, Train Dice: 0.1133, Val Dice: 0.1417\n"
     ]
    },
    {
     "name": "stderr",
     "output_type": "stream",
     "text": [
      "100%|██████████| 326/326 [04:20<00:00,  1.25it/s]\n"
     ]
    },
    {
     "name": "stdout",
     "output_type": "stream",
     "text": [
      "Epoch [20/20]\n",
      "Train Loss: 1.5147, Train Dice: 0.1141, Val Dice: 0.1417\n"
     ]
    }
   ],
   "source": [
    "# Import necessary modules\n",
    "import torch\n",
    "import torch.nn as nn\n",
    "import torch.optim as optim\n",
    "import torch.nn.functional as F\n",
    "from tqdm import tqdm\n",
    "import tifffile as tiff\n",
    "import numpy as np\n",
    "\n",
    "# Define the device (use GPU if available)\n",
    "device = torch.device(\"cuda\" if torch.cuda.is_available() else \"cpu\")\n",
    "\n",
    "# Initialize your UNet model\n",
    "attention_unet = AttentionUNet(in_channels=6, out_channels=1)  # Adjust input channels for SAR, DEM, LULC, etc.\n",
    "attention_unet.to(device)\n",
    "\n",
    "\n",
    "def dice_coef_metric(inputs, target):\n",
    "    intersection = 2.0 * (target * inputs).sum()\n",
    "    union = target.sum() + inputs.sum()\n",
    "    if target.sum() == 0 and inputs.sum() == 0:\n",
    "        return 1.0  # If both are empty, perfect match\n",
    "    return intersection / union\n",
    "\n",
    "class DiceLoss(nn.Module):\n",
    "    def __init__(self, weight=None, size_average=True):\n",
    "        super(DiceLoss, self).__init__()\n",
    "\n",
    "    def forward(self, inputs, targets, smooth=1.0):\n",
    "        # Apply sigmoid activation\n",
    "        inputs = torch.sigmoid(inputs)       \n",
    "        \n",
    "        # Flatten tensors\n",
    "        inputs = inputs.view(-1)\n",
    "        targets = targets.view(-1)\n",
    "        \n",
    "        intersection = (inputs * targets).sum()\n",
    "        dice = (2. * intersection + smooth) / (inputs.sum() + targets.sum() + smooth)\n",
    "        \n",
    "        return 1 - dice  # Dice loss is (1 - dice coefficient)\n",
    "\n",
    "def train_model(model_name, model, train_loader, val_loader, train_loss, optimizer, lr_scheduler=None, num_epochs=50):\n",
    "    print(f\"[INFO] Training Model: {model_name}\")\n",
    "    \n",
    "    loss_history = []\n",
    "    train_history = []\n",
    "    val_history = []\n",
    "    \n",
    "    bce_loss_fn = nn.BCEWithLogitsLoss()  # Binary Cross-Entropy loss\n",
    "    \n",
    "    for epoch in range(num_epochs):\n",
    "        model.train()\n",
    "        \n",
    "        epoch_losses = []\n",
    "        epoch_dice = []\n",
    "        \n",
    "        for i_step, (data, target) in enumerate(tqdm(train_loader)):\n",
    "            data, target = data.to(device), target.to(device)\n",
    "            \n",
    "            outputs = model(data)\n",
    "            \n",
    "            # Convert outputs to binary mask using threshold\n",
    "            out_cut = torch.sigmoid(outputs)  # Apply sigmoid activation\n",
    "            out_cut = torch.where(out_cut < 0.5, torch.tensor(0.0, device=device), torch.tensor(1.0, device=device))\n",
    "            \n",
    "            # Compute Dice coefficient\n",
    "            train_dice = dice_coef_metric(out_cut, target)\n",
    "            \n",
    "            # Compute BCE + Dice Loss\n",
    "            bce_loss = bce_loss_fn(outputs, target)\n",
    "            dice_loss = train_loss(outputs, target)\n",
    "            loss = bce_loss + dice_loss  # Combined loss\n",
    "            \n",
    "            epoch_losses.append(loss.item())\n",
    "            epoch_dice.append(train_dice)\n",
    "\n",
    "            optimizer.zero_grad()\n",
    "            loss.backward()\n",
    "            optimizer.step()\n",
    "        \n",
    "        val_dice = compute_iou(model, val_loader)\n",
    "        \n",
    "        # Learning rate scheduling (if applicable)\n",
    "        if lr_scheduler:\n",
    "            lr_scheduler.step()\n",
    "        \n",
    "        loss_history.append(np.mean(epoch_losses))\n",
    "        train_history.append(np.mean([x.cpu().numpy() for x in epoch_dice]))\n",
    "        val_history.append(val_dice)\n",
    "        \n",
    "        print(f\"Epoch [{epoch+1}/{num_epochs}]\")\n",
    "        print(f\"Train Loss: {np.mean(epoch_losses):.4f}, Train Dice: {np.mean([x.cpu().numpy() for x in epoch_dice]):.4f}, Val Dice: {val_dice:.4f}\")\n",
    "\n",
    "    \n",
    "    return loss_history, train_history, val_history\n",
    "\n",
    "def compute_iou(model, loader, threshold=0.5):\n",
    "    total_iou = 0\n",
    "    count = 0\n",
    "    \n",
    "    with torch.no_grad():\n",
    "        model.eval()\n",
    "\n",
    "        for i_step, (data, target) in enumerate(loader):\n",
    "            data, target = data.to(device), target.to(device)\n",
    "            \n",
    "            outputs = model(data)\n",
    "            out_cut = torch.sigmoid(outputs)\n",
    "            out_cut = torch.where(out_cut < threshold, torch.tensor(0.0, device=device), torch.tensor(1.0, device=device))\n",
    "            \n",
    "            iou = dice_coef_metric(out_cut, target)\n",
    "            total_iou += iou\n",
    "            count += 1\n",
    "\n",
    "    return total_iou / count if count > 0 else 0\n",
    "\n",
    "# Define optimizer\n",
    "opt = torch.optim.Adamax(attention_unet.parameters(), lr=1e-3)\n",
    "\n",
    "# Train Model\n",
    "num_epochs = 20\n",
    "aun_lh, aun_th, aun_vh = train_model(\"Attention UNet\", attention_unet, train_loader, test_loader, DiceLoss(), opt, None, num_epochs)\n"
   ]
  },
  {
   "cell_type": "code",
   "execution_count": 8,
   "metadata": {
    "execution": {
     "iopub.execute_input": "2025-02-25T09:55:21.954497Z",
     "iopub.status.busy": "2025-02-25T09:55:21.954268Z",
     "iopub.status.idle": "2025-02-25T09:55:22.303785Z",
     "shell.execute_reply": "2025-02-25T09:55:22.302831Z",
     "shell.execute_reply.started": "2025-02-25T09:55:21.954478Z"
    },
    "trusted": true
   },
   "outputs": [
    {
     "name": "stdout",
     "output_type": "stream",
     "text": [
      "Model saved successfully!\n"
     ]
    }
   ],
   "source": [
    "torch.save(attention_unet.state_dict(), \"flood_segmentation_model_uncertainity.pth\")\n",
    "print(\"Model saved successfully!\")\n"
   ]
  },
  {
   "cell_type": "code",
   "execution_count": null,
   "metadata": {
    "trusted": true
   },
   "outputs": [],
   "source": [
    "# Load the trained model\n",
    "model = AttentionUNet(6, 1)  # Use the correct model class\n",
    "model.load_state_dict(torch.load(\"flood_segmentation_model_uncertainity.pth\"))\n",
    "model.to(device)\n",
    "model.eval()  # Set to evaluation mode\n"
   ]
  },
  {
   "cell_type": "code",
   "execution_count": null,
   "metadata": {
    "execution": {
     "iopub.execute_input": "2025-02-25T10:19:24.773568Z",
     "iopub.status.busy": "2025-02-25T10:19:24.773076Z",
     "iopub.status.idle": "2025-02-25T10:19:25.045480Z",
     "shell.execute_reply": "2025-02-25T10:19:25.044589Z",
     "shell.execute_reply.started": "2025-02-25T10:19:24.773538Z"
    },
    "trusted": true
   },
   "outputs": [
    {
     "name": "stdout",
     "output_type": "stream",
     "text": [
      "Image dtype: torch.float32\n"
     ]
    },
    {
     "data": {
      "image/png": "[encoded data removed]",
      "text/plain": [
       "<Figure size 1000x500 with 2 Axes>"
      ]
     },
     "metadata": {},
     "output_type": "display_data"
    }
   ],
   "source": [
    "import tifffile as tiff\n",
    "import torch\n",
    "import numpy as np\n",
    "import torchvision.transforms as transforms\n",
    "import matplotlib.pyplot as plt\n",
    "from sklearn.metrics import accuracy_score, f1_score\n",
    "\n",
    "# Define device\n",
    "device = torch.device(\"cuda\" if torch.cuda.is_available() else \"cpu\")\n",
    "\n",
    "# Define image path\n",
    "image_path = \"/kaggle/input/images/images/images/32.tif\"\n",
    "\n",
    "# Load and preprocess the image using tifffile\n",
    "image = tiff.imread(image_path)\n",
    "\n",
    "# Normalize and convert to tensor\n",
    "transform = transforms.Compose([\n",
    "    transforms.ToTensor(),  # Convert to tensor\n",
    "])\n",
    "\n",
    "image = transform(image).float()  # Convert to float32\n",
    "image = image.unsqueeze(0)  # Add batch dimension\n",
    "image = image.to(device)\n",
    "\n",
    "print(f\"Image dtype: {image.dtype}\")  # Should print `torch.float32`\n",
    "\n",
    "# Run inference\n",
    "model.eval()\n",
    "with torch.no_grad():\n",
    "    output = model(image)\n",
    "\n",
    "# Convert output to binary mask\n",
    "pred_mask = output.sigmoid().cpu().numpy().squeeze()\n",
    "pred_mask = (pred_mask > 0.56).astype(np.uint8)  # Binary (0 or 1)\n",
    "\n",
    "# Load ground truth (assuming it's a PNG image)\n",
    "label_path = \"/kaggle/input/images/labels/labels/32.png\"\n",
    "gt_mask = plt.imread(label_path)\n",
    "\n",
    "# Normalize GT Mask to Binary (0 or 1)\n",
    "gt_mask = (gt_mask > 0.001).astype(np.uint8)\n",
    "\n",
    "\n",
    "# Visualize prediction vs ground truth\n",
    "fig, ax = plt.subplots(1, 2, figsize=(10, 5))\n",
    "\n",
    "ax[0].imshow(gt_mask, cmap=\"gray\")\n",
    "ax[0].set_title(\"Ground Truth\")\n",
    "ax[0].axis(\"off\")\n",
    "\n",
    "ax[1].imshow(pred_mask, cmap=\"gray\")\n",
    "ax[1].set_title(\"Predicted Mask\")\n",
    "ax[1].axis(\"off\")\n",
    "\n",
    "plt.show()"
   ]
  },
  {
   "cell_type": "code",
   "execution_count": 11,
   "metadata": {
    "execution": {
     "iopub.execute_input": "2025-02-25T09:59:38.675960Z",
     "iopub.status.busy": "2025-02-25T09:59:38.675688Z",
     "iopub.status.idle": "2025-02-25T09:59:38.778250Z",
     "shell.execute_reply": "2025-02-25T09:59:38.777506Z",
     "shell.execute_reply.started": "2025-02-25T09:59:38.675936Z"
    },
    "trusted": true
   },
   "outputs": [
    {
     "name": "stdout",
     "output_type": "stream",
     "text": [
      "Image Shape: torch.Size([4, 6, 512, 512]), Label Shape: torch.Size([4, 1, 512, 512])\n",
      "Label Unique Values: tensor([0., 1.])\n"
     ]
    }
   ],
   "source": [
    "for images, labels in train_loader:\n",
    "    print(f\"Image Shape: {images.shape}, Label Shape: {labels.shape}\")\n",
    "    print(f\"Label Unique Values: {torch.unique(labels)}\")\n",
    "    break\n"
   ]
  },
  {
   "cell_type": "code",
   "execution_count": 19,
   "metadata": {
    "execution": {
     "iopub.execute_input": "2025-02-25T10:20:12.327769Z",
     "iopub.status.busy": "2025-02-25T10:20:12.327456Z",
     "iopub.status.idle": "2025-02-25T10:24:36.240427Z",
     "shell.execute_reply": "2025-02-25T10:24:36.239535Z",
     "shell.execute_reply.started": "2025-02-25T10:20:12.327746Z"
    },
    "trusted": true
   },
   "outputs": [
    {
     "name": "stdout",
     "output_type": "stream",
     "text": [
      "Train Accuracy: 97.44%\n",
      "Test Accuracy: 97.52%\n",
      "Test F1 Score: 0.8413\n"
     ]
    }
   ],
   "source": [
    "\n",
    "# ----------------------- Compute Training Accuracy -----------------------\n",
    "train_correct = 0\n",
    "train_total = 0\n",
    "\n",
    "model.eval()\n",
    "with torch.no_grad():\n",
    "    for images, labels in train_loader:\n",
    "        images, labels = images.to(device), labels.to(device)\n",
    "        outputs = model(images)\n",
    "        pred_masks = (outputs.sigmoid() > 0.52).float()\n",
    "\n",
    "        train_correct += (pred_masks == labels).sum().item()\n",
    "        train_total += labels.numel()\n",
    "\n",
    "train_accuracy = train_correct / train_total\n",
    "print(f\"Train Accuracy: {train_accuracy * 100:.2f}%\")\n",
    "\n",
    "# ---------------------- Evaluate Model on Test Data ----------------------\n",
    "test_preds = []\n",
    "test_labels = []\n",
    "\n",
    "with torch.no_grad():\n",
    "    for images, labels in test_loader:\n",
    "        images, labels = images.to(device), labels.to(device)\n",
    "        outputs = model(images)\n",
    "        pred_masks = (outputs.sigmoid() > 0.52).cpu().numpy().astype(np.uint8)\n",
    "        labels = labels.cpu().numpy().astype(np.uint8)\n",
    "\n",
    "        test_preds.extend(pred_masks.flatten())\n",
    "        test_labels.extend(labels.flatten())\n",
    "\n",
    "# Compute Accuracy & F1 Score\n",
    "test_accuracy = accuracy_score(test_labels, test_preds)\n",
    "test_f1 = f1_score(test_labels, test_preds)\n",
    "\n",
    "print(f\"Test Accuracy: {test_accuracy * 100:.2f}%\")\n",
    "print(f\"Test F1 Score: {test_f1:.4f}\")\n"
   ]
  },
  {
   "cell_type": "code",
   "execution_count": 13,
   "metadata": {
    "execution": {
     "iopub.execute_input": "2025-02-25T10:03:57.249702Z",
     "iopub.status.busy": "2025-02-25T10:03:57.249470Z",
     "iopub.status.idle": "2025-02-25T10:03:57.255853Z",
     "shell.execute_reply": "2025-02-25T10:03:57.254827Z",
     "shell.execute_reply.started": "2025-02-25T10:03:57.249681Z"
    },
    "trusted": true
   },
   "outputs": [
    {
     "data": {
      "text/plain": [
       "(array([[0, 0, 0, ..., 0, 0, 0],\n",
       "        [0, 0, 0, ..., 0, 0, 0],\n",
       "        [0, 0, 0, ..., 0, 0, 0],\n",
       "        ...,\n",
       "        [0, 0, 0, ..., 0, 0, 0],\n",
       "        [0, 0, 0, ..., 0, 0, 0],\n",
       "        [0, 0, 0, ..., 0, 0, 0]], dtype=uint8),\n",
       " array([[1, 1, 1, ..., 0, 0, 0],\n",
       "        [1, 1, 1, ..., 0, 0, 0],\n",
       "        [1, 1, 1, ..., 0, 0, 0],\n",
       "        ...,\n",
       "        [0, 0, 0, ..., 0, 0, 0],\n",
       "        [0, 0, 0, ..., 0, 0, 0],\n",
       "        [0, 0, 0, ..., 0, 0, 0]], dtype=uint8))"
      ]
     },
     "execution_count": 13,
     "metadata": {},
     "output_type": "execute_result"
    }
   ],
   "source": [
    "pred_mask, gt_mask"
   ]
  }
 ],
 "metadata": {
  "accelerator": "GPU",
  "colab": {
   "gpuType": "T4",
   "name": "Welcome to Colaboratory",
   "provenance": []
  },
  "kaggle": {
   "accelerator": "gpu",
   "dataSources": [
    {
     "datasetId": 6672060,
     "sourceId": 10756922,
     "sourceType": "datasetVersion"
    }
   ],
   "dockerImageVersionId": 30887,
   "isGpuEnabled": true,
   "isInternetEnabled": true,
   "language": "python",
   "sourceType": "notebook"
  },
  "kernelspec": {
   "display_name": "Python 3",
   "language": "python",
   "name": "python3"
  },
  "language_info": {
   "codemirror_mode": {
    "name": "ipython",
    "version": 3
   },
   "file_extension": ".py",
   "mimetype": "text/x-python",
   "name": "python",
   "nbconvert_exporter": "python",
   "pygments_lexer": "ipython3",
   "version": "3.10.12"
  }
 },
 "nbformat": 4,
 "nbformat_minor": 4
}
